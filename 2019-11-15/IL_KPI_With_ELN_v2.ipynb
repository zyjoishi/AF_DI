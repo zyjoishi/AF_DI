{
 "cells": [
  {
   "cell_type": "code",
   "execution_count": 1,
   "metadata": {},
   "outputs": [],
   "source": [
    "import os\n",
    "os.chdir('../')\n",
    "os.getcwd()\n",
    "%load_ext autoreload\n",
    "%autoreload 2\n",
    "import src.forecaster.diagnostic as diagnostic\n",
    "import  src.forecaster.modelil as mod\n",
    "import src.forecaster.utilitaires as util\n",
    "import pandas as pd\n",
    "import warnings\n",
    "warnings.filterwarnings('ignore')\n",
    "\n",
    "\n",
    "raw_master = pd.read_csv('data/raw/raw_master_il_1019.csv')\n",
    "\n",
    "fc_eln = pd.read_csv('data/raw/DI/di_forecast.csv')"
   ]
  },
  {
   "cell_type": "code",
   "execution_count": 2,
   "metadata": {},
   "outputs": [
    {
     "name": "stdout",
     "output_type": "stream",
     "text": [
      "creating the main table\n"
     ]
    }
   ],
   "source": [
    "mod = mod.Modelil(raw_master)\n",
    "\n",
    "max_date_available = mod.all_sales.calendar_yearmonth.max()\n",
    "filter_date = min(201908, max_date_available)\n",
    "dwps = util.create_list_period(201601, filter_date, False)\n",
    "dwp, dtp = util.get_all_combination_date(dwps, 10)\n",
    "\n",
    "print(\"creating the main table\")\n",
    "table_all_features = mod.create_all_features(dwp, dtp)"
   ]
  },
  {
   "cell_type": "code",
   "execution_count": 3,
   "metadata": {},
   "outputs": [],
   "source": [
    "from copy import deepcopy\n",
    "\n",
    "XGBOOST_PARAMETERS = {\n",
    "            'max_depth': 11,  # 25\n",
    "            'gamma': 0.02,\n",
    "            'subsample': 0.4,\n",
    "            'n_estimators': 27,\n",
    "            'learning_rate': 0.1,\n",
    "            'n_jobs': 12,\n",
    "            'verbosity': 2\n",
    "        }\n",
    "dico_params_eib = {}\n",
    "for i in range(1,11):\n",
    "    dico_params_eib[i] = XGBOOST_PARAMETERS.copy()\n",
    "\n",
    "#dico_params[7]['n_estimators'] = 49\n",
    "dico_params_eib[5]['n_estimators'] = 27 \n",
    "dico_params_eib[6]['n_estimators'] = 45\n",
    "dico_params_eib[7]['n_estimators'] = 31  \n",
    "dico_params_eib[8]['n_estimators'] = 47 \n",
    "dico_params_eib[9]['n_estimators'] = 13 \n",
    "dico_params_eib[10]['n_estimators'] = 27\n",
    "\n",
    "dico_params_di = deepcopy(dico_params_eib)\n",
    "dico_params_di[6]['n_estimators'] = 81"
   ]
  },
  {
   "cell_type": "code",
   "execution_count": 4,
   "metadata": {},
   "outputs": [],
   "source": [
    "params={}\n",
    "params['eib']= dico_params_eib\n",
    "params['di'] = dico_params_di"
   ]
  },
  {
   "cell_type": "code",
   "execution_count": 5,
   "metadata": {},
   "outputs": [],
   "source": [
    "dwp_test = util.create_list_period(201702, 201902, False)"
   ]
  },
  {
   "cell_type": "code",
   "execution_count": 6,
   "metadata": {},
   "outputs": [
    {
     "name": "stdout",
     "output_type": "stream",
     "text": [
      "predicted=27407.108326, expected=26773.784319\n",
      "predicted=31380.995714, expected=24897.214795\n",
      "predicted=33643.380152, expected=23976.806097\n",
      "predicted=31913.692143, expected=23070.055628\n",
      "predicted=32037.792502, expected=21263.557260\n",
      "predicted=31056.047304, expected=20267.222169\n",
      "predicted=31417.487570, expected=19468.268955\n",
      "predicted=28177.750548, expected=19472.006769\n",
      "predicted=26123.957984, expected=18793.847278\n",
      "predicted=28020.544990, expected=18349.638576\n",
      "predicted=25575.036511, expected=18007.993867\n",
      "predicted=23696.513233, expected=17767.760054\n",
      "predicted=19959.817757, expected=16807.961734\n",
      "predicted=20167.674789, expected=16325.512226\n",
      "predicted=19958.365633, expected=16157.630615\n",
      "predicted=16348.163342, expected=15514.130931\n",
      "predicted=16043.535836, expected=15127.874365\n",
      "predicted=16228.510283, expected=16185.722152\n",
      "predicted=17704.285254, expected=16498.640706\n",
      "predicted=16487.291223, expected=15868.570867\n",
      "predicted=15947.374483, expected=13054.733503\n",
      "predicted=15925.580400, expected=10745.899857\n",
      "predicted=15921.486423, expected=8066.698006\n",
      "predicted=13908.828016, expected=4236.054323\n",
      "predicted=13668.362744, expected=1955.897237\n",
      "predicted=14300.498516, expected=0.000000\n",
      "predicted=13146.679685, expected=0.000000\n",
      "predicted=12841.380122, expected=0.000000\n",
      "predicted=16204.350256, expected=0.000000\n",
      "predicted=16322.761737, expected=0.000000\n",
      "predicted=13856.286455, expected=0.000000\n",
      "predicted=14306.693286, expected=0.000000\n",
      "predicted=14603.702817, expected=0.000000\n",
      "predicted=14635.245731, expected=0.000000\n",
      "Test MSE: 93245897.250\n",
      "Rescaling: IL is the sum of DI and EIB at global level \n"
     ]
    }
   ],
   "source": [
    "res = mod.recreate_past_forecasts(table_all_features, dwp_test, params, max_available_date=201908)"
   ]
  },
  {
   "cell_type": "code",
   "execution_count": 7,
   "metadata": {},
   "outputs": [
    {
     "name": "stdout",
     "output_type": "stream",
     "text": [
      "\n",
      "*** Year 2018 ***\n",
      "        il:\tTarget=     57462\tPred=     59438\tBias=   -0.0333\tFA=    0.7136\tFA'=    0.7038\n",
      "       eib:\tTarget=     38034\tPred=     34145\tBias=    0.1202\tFA=     0.625\tFA'=    0.6634\n",
      "        di:\tTarget=     19427\tPred=     24557\tBias=   -0.2089\tFA=    0.5794\tFA'=    0.4683\n",
      "\n",
      "*** H1 2019 (until August) ***\n",
      "        il:\tTarget=     34249\tPred=     35749\tBias=    -0.042\tFA=    0.7754\tFA'=    0.7655\n",
      "       eib:\tTarget=     20421\tPred=     21361\tBias=   -0.0413\tFA=    0.6752\tFA'=    0.6603\n",
      "        di:\tTarget=     13827\tPred=     15409\tBias=   -0.1026\tFA=    0.6821\tFA'=    0.6458\n"
     ]
    }
   ],
   "source": [
    "test = diagnostic.Diagnostic(cvr=res[(res.horizon==6)], raw_master=raw_master, postprocess='indep')\n",
    "temp = test.run_test(plot=False, prediction_horizon=6)"
   ]
  },
  {
   "cell_type": "markdown",
   "metadata": {},
   "source": [
    "# KPIS with atleast 2 years of data at date when predciting"
   ]
  },
  {
   "cell_type": "code",
   "execution_count": 8,
   "metadata": {},
   "outputs": [
    {
     "name": "stdout",
     "output_type": "stream",
     "text": [
      "\n",
      "*** Year 2018 ***\n",
      "        il:\tTarget=     55266\tPred=     57668\tBias=   -0.0417\tFA=    0.7167\tFA'=    0.7044\n",
      "       eib:\tTarget=     36082\tPred=     32682\tBias=    0.1106\tFA=    0.6311\tFA'=    0.6659\n",
      "        di:\tTarget=         0\tPred=         0\tBias=       nan\tFA=       nan\tFA'=       nan\n",
      "\n",
      "*** H1 2019 (until August) ***\n",
      "        il:\tTarget=     33920\tPred=     35411\tBias=   -0.0421\tFA=    0.7758\tFA'=    0.7659\n",
      "       eib:\tTarget=     20092\tPred=     21005\tBias=   -0.0407\tFA=    0.6736\tFA'=    0.6587\n",
      "        di:\tTarget=      4217\tPred=      4593\tBias=    -0.082\tFA=     0.804\tFA'=    0.7865\n"
     ]
    }
   ],
   "source": [
    "month_min=24 # minimal age in month at date when predicting\n",
    "pred_horizon = 6\n",
    "test = diagnostic.Diagnostic(cvr=res[(res.horizon==6)], raw_master=raw_master, postprocess='indep')\n",
    "temp = test.run_test(plot=False, prediction_horizon=6, MINIMUM_HISTO = month_min + pred_horizon)"
   ]
  },
  {
   "cell_type": "code",
   "execution_count": 9,
   "metadata": {},
   "outputs": [],
   "source": [
    "import numpy as np\n",
    "\n",
    "fc_eln['cycle_month'] = pd.to_datetime(fc_eln['cycle_month'], format= \"%Y-%m\")\n",
    "fc_eln['forecasted_month'] = pd.to_datetime(fc_eln['forecasted_month'], format= \"%Y-%m\")\n",
    "\n",
    "fc_eln['horizon']  = 12 * (fc_eln['forecasted_month'].dt.year - fc_eln['cycle_month'].dt.year) + (fc_eln['forecasted_month'].dt.month - fc_eln['cycle_month'].dt.month)\n",
    "\n",
    "fc_eln['horizon'] = fc_eln['horizon'].astype(int)\n",
    "\n",
    "fc_eln['sku_wo_pkg'] = fc_eln.sku_w_pkg.str.split('_').str[0:3].str.join('_') + '_'+ fc_eln.sku_w_pkg.str.split('_').str[4]\n",
    "\n",
    "fc_eln.horizon += 2\n",
    "fc_eln['label'] = 'di'\n",
    "fc_eln.rename(columns={'forecasted_month':'date_to_predict'}, inplace=True)\n",
    "fc_eln.rename(columns={'cycle_month':'date_when_predicting'}, inplace=True)\n",
    "fc_eln.rename(columns={'forecast':'prediction'}, inplace=True)\n",
    "fc_eln['date_when_predicting'] = fc_eln['date_when_predicting'].dt.strftime('%Y%m')\n",
    "\n",
    "fc_eln_di = fc_eln.groupby(['date_to_predict', 'sku_wo_pkg', 'horizon'])['prediction'].sum().reset_index()\n",
    "\n",
    "tempdi = fc_eln_di.copy()\n",
    "tempeib = res[res.label=='eib'].copy()\n",
    "\n",
    "tempdi['date_to_predict'] = pd.to_datetime(tempdi['date_to_predict']).dt.year.astype(\n",
    "            str) + pd.to_datetime(tempdi['date_to_predict']).dt.month.astype(str).str.zfill(2)\n",
    "tempdi['date_to_predict'] = tempdi['date_to_predict'].astype(int)\n",
    "tempdi['label'] = 'di'"
   ]
  },
  {
   "cell_type": "code",
   "execution_count": 10,
   "metadata": {},
   "outputs": [],
   "source": [
    "tempdi.rename(columns={'prediction': 'preddi'}, inplace=True)\n",
    "tempeib.rename(columns={'prediction': 'predeib'}, inplace=True)\n",
    "tempil = pd.merge(\n",
    "tempeib[['date_to_predict', 'sku_wo_pkg', 'predeib', 'horizon']],\n",
    "tempdi[['date_to_predict', 'sku_wo_pkg', 'preddi', 'horizon']],\n",
    "how='left',\n",
    "on=['date_to_predict', 'sku_wo_pkg', 'horizon']\n",
    ")\n",
    "tempdiaug = tempil.copy()\n",
    "tempdiaug['preddi'] = tempil['preddi'].fillna(0)\n",
    "tempdiaug['label']='di'\n",
    "tempdi = tempdiaug\n",
    "tempil['prediction'] = tempil['preddi'].fillna(0) + tempil['predeib'].fillna(0)\n",
    "\n",
    "tempil['label'] = 'il'\n",
    "tempdi.rename(columns={'preddi': 'prediction'}, inplace=True)\n",
    "tempeib.rename(columns={'predeib': 'prediction'}, inplace=True)\n",
    "rescombined= pd.concat([tempdi, tempeib, tempil], sort=True).drop(['preddi', 'predeib'], axis=1, errors=\"ignore\")"
   ]
  },
  {
   "cell_type": "markdown",
   "metadata": {},
   "source": [
    "# KPIs with DI preds replaced by ELN predicitons "
   ]
  },
  {
   "cell_type": "code",
   "execution_count": 11,
   "metadata": {},
   "outputs": [
    {
     "name": "stdout",
     "output_type": "stream",
     "text": [
      "\n",
      "*** Year 2018 ***\n",
      "        il:\tTarget=     57462\tPred=     57415\tBias=    0.0008\tFA=    0.7428\tFA'=    0.7431\n",
      "       eib:\tTarget=     38034\tPred=     34145\tBias=    0.1202\tFA=     0.625\tFA'=    0.6634\n",
      "        di:\tTarget=     19427\tPred=     23270\tBias=   -0.1652\tFA=    0.6194\tFA'=    0.5441\n",
      "\n",
      "*** H1 2019 (until August) ***\n",
      "        il:\tTarget=     34249\tPred=     36937\tBias=   -0.0728\tFA=    0.7966\tFA'=    0.7807\n",
      "       eib:\tTarget=     20421\tPred=     21361\tBias=   -0.0413\tFA=    0.6752\tFA'=    0.6603\n",
      "        di:\tTarget=     13827\tPred=     15575\tBias=   -0.1122\tFA=    0.7833\tFA'=    0.7559\n"
     ]
    }
   ],
   "source": [
    "test = diagnostic.Diagnostic(cvr=rescombined[(rescombined.horizon==6)], raw_master=raw_master, postprocess='indep')\n",
    "temp = test.run_test(plot=False, prediction_horizon=6)"
   ]
  },
  {
   "cell_type": "markdown",
   "metadata": {},
   "source": [
    "# BELOW KPIS MIXED AF AND ELN"
   ]
  },
  {
   "cell_type": "code",
   "execution_count": 12,
   "metadata": {},
   "outputs": [],
   "source": [
    "from src.forecaster.utilitaires import fa_score, fa_score_prime, bias_score, add_sku_age\n",
    "master_il = add_sku_age(raw_master, 'date', ['sku_wo_pkg'],\n",
    "                                         ['offtake_di', 'offtake_il', 'offtake_eib'],\n",
    "                                         Thre_abs=12, Thre_rel=0.02)\n",
    "\n",
    "\n",
    "\n",
    "cvr = test.ensure_output_format(res[(res.horizon==6)], True)\n",
    "\n",
    "age = master_il[['date', 'sku_wo_pkg', 'country', 'brand', 'tier', 'stage', 'age_offtake_di',\n",
    "                              'age_offtake_il', 'age_offtake_eib']][master_il.date >= cvr.date.min()]\n",
    "age = age.rename(columns={'date': 'date'})\n",
    "age['date'] = pd.to_datetime(age['date'], format='%Y%m')\n",
    "\n",
    "cvr = cvr.merge(age, on=['date', 'sku_wo_pkg'], how='left', validate='m:1').fillna(-99)"
   ]
  },
  {
   "cell_type": "code",
   "execution_count": 13,
   "metadata": {},
   "outputs": [],
   "source": [
    "res_corrected = res.copy()"
   ]
  },
  {
   "cell_type": "code",
   "execution_count": 14,
   "metadata": {},
   "outputs": [],
   "source": [
    "cvr['date_to_predict'] = pd.to_datetime(cvr['date'], format='%Y-%m-%d')\n",
    "cvr['date_to_predict'] = cvr['date_to_predict'].dt.strftime('%Y%m').astype(int)\n",
    "res_corrected = pd.merge(res_corrected, cvr[['sku_wo_pkg', 'date_to_predict', 'age_offtake_di', 'horizon']], on = ['date_to_predict', 'horizon', 'sku_wo_pkg'] , how = 'left')"
   ]
  },
  {
   "cell_type": "code",
   "execution_count": 15,
   "metadata": {},
   "outputs": [],
   "source": [
    "tmp=res_corrected[(res_corrected['label']=='di')&(res_corrected.age_offtake_di>=30)]\n",
    "tmp.rename(columns={'prediction' : 'pred2'},inplace=True)\n",
    "tmp.date_to_predict = tmp.date_to_predict.astype(int)\n",
    "final_res = pd.merge(rescombined, tmp[['sku_wo_pkg', 'date_to_predict', 'label', 'horizon', 'pred2']], how = 'left', on = ['sku_wo_pkg', 'date_to_predict', 'label', 'horizon'])"
   ]
  },
  {
   "cell_type": "code",
   "execution_count": 17,
   "metadata": {},
   "outputs": [],
   "source": [
    "final_res.loc[final_res.pred2>0, 'prediction'] = final_res.loc[final_res.pred2>0, 'pred2']"
   ]
  },
  {
   "cell_type": "code",
   "execution_count": 18,
   "metadata": {},
   "outputs": [
    {
     "name": "stdout",
     "output_type": "stream",
     "text": [
      "\n",
      "*** Year 2018 ***\n",
      "        il:\tTarget=     57462\tPred=     57415\tBias=    0.0008\tFA=    0.7428\tFA'=    0.7431\n",
      "       eib:\tTarget=     38034\tPred=     34145\tBias=    0.1202\tFA=     0.625\tFA'=    0.6634\n",
      "        di:\tTarget=     19427\tPred=     23270\tBias=   -0.1652\tFA=    0.6194\tFA'=    0.5441\n",
      "\n",
      "*** H1 2019 (until August) ***\n",
      "        il:\tTarget=     34249\tPred=     36937\tBias=   -0.0728\tFA=    0.7966\tFA'=    0.7807\n",
      "       eib:\tTarget=     20421\tPred=     21361\tBias=   -0.0413\tFA=    0.6752\tFA'=    0.6603\n",
      "        di:\tTarget=     13827\tPred=     15359\tBias=   -0.0997\tFA=    0.7772\tFA'=    0.7526\n"
     ]
    }
   ],
   "source": [
    "test = diagnostic.Diagnostic(cvr=final_res[(final_res.horizon==6)], raw_master=raw_master, postprocess='indep')\n",
    "temp = test.run_test(plot=False, prediction_horizon=6)"
   ]
  },
  {
   "cell_type": "code",
   "execution_count": 20,
   "metadata": {},
   "outputs": [],
   "source": [
    "tempdi = final_res[final_res.label == 'di']\n",
    "tempeib = final_res[final_res.label == 'eib']\n",
    "tempil = final_res[final_res.label == 'il']\n",
    "\n",
    "tempdi.rename(columns={'prediction': 'preddi'}, inplace=True)\n",
    "tempeib.rename(columns={'prediction': 'predeib'}, inplace=True)\n",
    "tempil = pd.merge(\n",
    "    tempdi[['date_to_predict', 'sku_wo_pkg', 'preddi', 'horizon']],\n",
    "    tempeib[['date_to_predict', 'sku_wo_pkg', 'predeib', 'horizon']],\n",
    "    how='left',\n",
    "    on=['date_to_predict', 'sku_wo_pkg', 'horizon']\n",
    ")\n",
    "tempil['prediction'] = tempil['preddi'] + tempil['predeib']\n",
    "\n",
    "tempil['label'] = 'il'\n",
    "tempdi.rename(columns={'preddi': 'prediction'}, inplace=True)\n",
    "tempeib.rename(columns={'predeib': 'prediction'}, inplace=True)\n",
    "\n",
    "finafinal=pd.concat([tempdi, tempeib, tempil], sort=True).drop(['preddi', 'predeib'], axis=1, errors=\"ignore\")"
   ]
  },
  {
   "cell_type": "code",
   "execution_count": 21,
   "metadata": {},
   "outputs": [
    {
     "name": "stdout",
     "output_type": "stream",
     "text": [
      "\n",
      "*** Year 2018 ***\n",
      "        il:\tTarget=     57462\tPred=     57415\tBias=    0.0008\tFA=    0.7428\tFA'=    0.7431\n",
      "       eib:\tTarget=     38034\tPred=     34145\tBias=    0.1202\tFA=     0.625\tFA'=    0.6634\n",
      "        di:\tTarget=     19427\tPred=     23270\tBias=   -0.1652\tFA=    0.6194\tFA'=    0.5441\n",
      "\n",
      "*** H1 2019 (until August) ***\n",
      "        il:\tTarget=     34249\tPred=     36720\tBias=   -0.0673\tFA=    0.7936\tFA'=    0.7787\n",
      "       eib:\tTarget=     20421\tPred=     21361\tBias=   -0.0413\tFA=    0.6752\tFA'=    0.6603\n",
      "        di:\tTarget=     13827\tPred=     15359\tBias=   -0.0997\tFA=    0.7772\tFA'=    0.7526\n"
     ]
    }
   ],
   "source": [
    "test = diagnostic.Diagnostic(cvr=finafinal[(finafinal.horizon==6)], raw_master=raw_master, postprocess='indep')\n",
    "temp = test.run_test(plot=False, prediction_horizon=6)"
   ]
  },
  {
   "cell_type": "code",
   "execution_count": null,
   "metadata": {},
   "outputs": [],
   "source": []
  }
 ],
 "metadata": {
  "kernelspec": {
   "display_name": "Python 3",
   "language": "python",
   "name": "python3"
  },
  "language_info": {
   "codemirror_mode": {
    "name": "ipython",
    "version": 3
   },
   "file_extension": ".py",
   "mimetype": "text/x-python",
   "name": "python",
   "nbconvert_exporter": "python",
   "pygments_lexer": "ipython3",
   "version": "3.7.5"
  }
 },
 "nbformat": 4,
 "nbformat_minor": 2
}
